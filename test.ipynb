{
 "cells": [
  {
   "cell_type": "code",
   "execution_count": null,
   "metadata": {},
   "outputs": [],
   "source": [
    "struct tmp\n",
    "    "
   ]
  },
  {
   "cell_type": "code",
   "execution_count": 4,
   "metadata": {},
   "outputs": [
    {
     "data": {
      "text/plain": [
       "4-element Vector{Int64}:\n",
       " 1\n",
       " 2\n",
       " 3\n",
       " 4"
      ]
     },
     "metadata": {},
     "output_type": "display_data"
    }
   ],
   "source": [
    "a = [[1,2],[3,4]]\n",
    "b = collect(Base.Flatten(a))"
   ]
  },
  {
   "cell_type": "code",
   "execution_count": 5,
   "metadata": {},
   "outputs": [
    {
     "data": {
      "text/plain": [
       "3"
      ]
     },
     "metadata": {},
     "output_type": "display_data"
    }
   ],
   "source": [
    "a = collect(range(1,10))"
   ]
  },
  {
   "cell_type": "code",
   "execution_count": 15,
   "metadata": {},
   "outputs": [
    {
     "data": {
      "text/plain": [
       "4-element Vector{Vector{Int64}}:\n",
       " [7, 6, 10]\n",
       " [1, 5, 4]\n",
       " [9, 2, 8]\n",
       " [3]"
      ]
     },
     "metadata": {},
     "output_type": "display_data"
    }
   ],
   "source": [
    "using Random\n",
    "function create_mini_batches(sample_length::Int64, batch_size::Int64)::Vector{Vector{Int64}}\n",
    "    ind = shuffle(collect(1:sample_length))\n",
    "    batch_ind = []\n",
    "    \n",
    "    while true\n",
    "        if length(ind) >= batch_size\n",
    "            push!(batch_ind, splice!(ind,1:batch_size))\n",
    "        else\n",
    "            push!(batch_ind, ind)\n",
    "            break\n",
    "        end\n",
    "    end\n",
    "\n",
    "    return batch_ind\n",
    "end\n",
    "\n",
    "create_mini_batches(10,3)"
   ]
  },
  {
   "cell_type": "code",
   "execution_count": 27,
   "metadata": {},
   "outputs": [
    {
     "data": {
      "text/plain": [
       "2-element Vector{Int64}:\n",
       " 1\n",
       " 0"
      ]
     },
     "metadata": {},
     "output_type": "display_data"
    }
   ],
   "source": [
    "a = transpose(stack([[1,0,1],[ 0,0,1]], dims=1))\n",
    "[a[:,i][1] for i in 1:size(a,2)]"
   ]
  },
  {
   "cell_type": "code",
   "execution_count": 62,
   "metadata": {},
   "outputs": [
    {
     "data": {
      "text/plain": [
       "2-element Vector{Int64}:\n",
       " 22\n",
       " 78"
      ]
     },
     "metadata": {},
     "output_type": "display_data"
    }
   ],
   "source": [
    "using StatsBase: wsample\n",
    "a = [0,0]\n",
    "for _ in 1:100\n",
    "    i = wsample([1,2],[0.2,0.8])\n",
    "    a[i] += 1\n",
    "end\n",
    "a"
   ]
  },
  {
   "cell_type": "code",
   "execution_count": 29,
   "metadata": {},
   "outputs": [],
   "source": [
    "using ReinforcementLearning"
   ]
  },
  {
   "cell_type": "code",
   "execution_count": 30,
   "metadata": {},
   "outputs": [
    {
     "data": {
      "text/markdown": [
       "# CartPoleEnv\n",
       "\n",
       "## Traits\n",
       "\n",
       "| Trait Type        |                  Value |\n",
       "|:----------------- | ----------------------:|\n",
       "| NumAgentStyle     |          SingleAgent() |\n",
       "| DynamicStyle      |           Sequential() |\n",
       "| InformationStyle  | ImperfectInformation() |\n",
       "| ChanceStyle       |           Stochastic() |\n",
       "| RewardStyle       |           StepReward() |\n",
       "| UtilityStyle      |           GeneralSum() |\n",
       "| ActionStyle       |     MinimalActionSet() |\n",
       "| StateStyle        |     Observation{Any}() |\n",
       "| DefaultStateStyle |     Observation{Any}() |\n",
       "\n",
       "## Is Environment Terminated?\n",
       "\n",
       "No\n",
       "\n",
       "## State Space\n",
       "\n",
       "`Space{Vector{IntervalSets.ClosedInterval{Float64}}}(IntervalSets.ClosedInterval{Float64}[-4.8..4.8, -Inf..Inf, -0.41887902047863906..0.41887902047863906, -Inf..Inf])`\n",
       "\n",
       "## Action Space\n",
       "\n",
       "`Base.OneTo(2)`\n",
       "\n",
       "## Current State\n",
       "\n",
       "```\n",
       "[0.0012086741629943054, 0.03794769958606867, -0.00030351204903651674, 0.01558122573730239]\n",
       "```\n"
      ],
      "text/plain": [
       "# CartPoleEnv\n",
       "\n",
       "## Traits\n",
       "\n",
       "| Trait Type        |                  Value |\n",
       "|:----------------- | ----------------------:|\n",
       "| NumAgentStyle     |          SingleAgent() |\n",
       "| DynamicStyle      |           Sequential() |\n",
       "| InformationStyle  | ImperfectInformation() |\n",
       "| ChanceStyle       |           Stochastic() |\n",
       "| RewardStyle       |           StepReward() |\n",
       "| UtilityStyle      |           GeneralSum() |\n",
       "| ActionStyle       |     MinimalActionSet() |\n",
       "| StateStyle        |     Observation{Any}() |\n",
       "| DefaultStateStyle |     Observation{Any}() |\n",
       "\n",
       "## Is Environment Terminated?\n",
       "\n",
       "No\n",
       "\n",
       "## State Space\n",
       "\n",
       "`Space{Vector{IntervalSets.ClosedInterval{Float64}}}(IntervalSets.ClosedInterval{Float64}[-4.8..4.8, -Inf..Inf, -0.41887902047863906..0.41887902047863906, -Inf..Inf])`\n",
       "\n",
       "## Action Space\n",
       "\n",
       "`Base.OneTo(2)`\n",
       "\n",
       "## Current State\n",
       "\n",
       "```\n",
       "[0.0012086741629943054, 0.03794769958606867, -0.00030351204903651674, 0.01558122573730239]\n",
       "```\n"
      ]
     },
     "metadata": {},
     "output_type": "display_data"
    }
   ],
   "source": [
    "function step(action,environment)\n",
    "    s = state(environment)\n",
    "    environment(action)\n",
    "    r = reward(environment)\n",
    "\n",
    "    return s,r\n",
    "end\n",
    "\n",
    "e = CartPoleEnv()\n"
   ]
  },
  {
   "cell_type": "code",
   "execution_count": 75,
   "metadata": {},
   "outputs": [
    {
     "data": {
      "text/plain": [
       "([-3.5262590062025985, -8.145558791508183, 4.768378491164363, 3.323126227566399], 0.0)"
      ]
     },
     "metadata": {},
     "output_type": "display_data"
    }
   ],
   "source": [
    "step(1,e)"
   ]
  },
  {
   "cell_type": "code",
   "execution_count": 23,
   "metadata": {},
   "outputs": [
    {
     "name": "stdout",
     "output_type": "stream",
     "text": [
      "[[9, 2, 7], [8, 1, 6], [10, 5, 3], [4]]\n",
      "[[3, 4, 9], [2, 10, 7], [5, 8, 6], [1]]\n"
     ]
    }
   ],
   "source": [
    " using StableRNGs, Random\n",
    "rng = StableRNG(1)  # Set RNG seed globally\n",
    "function create_mini_batches(\n",
    "    sample_length::Int64, \n",
    "    batch_size::Int64\n",
    "    )::Vector{Vector{Int64}}\n",
    "\n",
    "    ind = shuffle(rng,collect(1:sample_length))\n",
    "    batch_ind = []\n",
    "    \n",
    "    while true\n",
    "        if length(ind) >= batch_size\n",
    "            push!(batch_ind, splice!(ind,1:batch_size))\n",
    "        else\n",
    "            push!(batch_ind, ind)\n",
    "            break\n",
    "        end\n",
    "    end\n",
    "\n",
    "    return batch_ind\n",
    "end\n",
    "# Example usage of create_mini_batches\n",
    "sample_length = 10\n",
    "batch_size = 3\n",
    "batches_1 = create_mini_batches(sample_length, batch_size)  # First call\n",
    "batches_2 = create_mini_batches(sample_length, batch_size)  # Second call\n",
    "\n",
    "println(batches_1)  # Should print the same batches\n",
    "println(batches_2)  # Should also print the same batches"
   ]
  },
  {
   "cell_type": "code",
   "execution_count": 24,
   "metadata": {},
   "outputs": [
    {
     "data": {
      "text/plain": [
       "5-element Vector{t}:\n",
       " t(1)\n",
       " t(1)\n",
       " t(1)\n",
       " t(1)\n",
       " t(1)"
      ]
     },
     "metadata": {},
     "output_type": "display_data"
    }
   ],
   "source": [
    "struct t\n",
    "    s \n",
    "end\n",
    "\n",
    "test = [t(1) for _ in 1:5]"
   ]
  },
  {
   "cell_type": "code",
   "execution_count": 81,
   "metadata": {},
   "outputs": [
    {
     "data": {
      "text/plain": [
       "2×4 Matrix{Float64}:\n",
       " -0.896013  -0.538859  -0.878686  -0.896013\n",
       " -0.524576  -0.875661  -0.536705  -0.524576"
      ]
     },
     "metadata": {},
     "output_type": "display_data"
    }
   ],
   "source": [
    "log.([0.4081937451196489 0.5834133702493958 0.4153282068228023 0.4081937451196489; 0.5918062548803511 0.4165866297506043 0.5846717931771976 0.5918062548803511])"
   ]
  },
  {
   "cell_type": "code",
   "execution_count": 13,
   "metadata": {},
   "outputs": [
    {
     "data": {
      "text/plain": [
       "2×2 Matrix{Int64}:\n",
       " 1  1\n",
       " 2  2"
      ]
     },
     "metadata": {},
     "output_type": "display_data"
    }
   ],
   "source": [
    "a = [1 1; 2 2]\n",
    "a"
   ]
  },
  {
   "cell_type": "code",
   "execution_count": 18,
   "metadata": {},
   "outputs": [
    {
     "data": {
      "text/plain": [
       "2-element Vector{Int64}:\n",
       " 2\n",
       " 2"
      ]
     },
     "metadata": {},
     "output_type": "display_data"
    }
   ],
   "source": [
    "a[2,:]"
   ]
  },
  {
   "cell_type": "code",
   "execution_count": 7,
   "metadata": {},
   "outputs": [
    {
     "data": {
      "text/plain": [
       "2-element Vector{Int64}:\n",
       " 1\n",
       " 2"
      ]
     },
     "metadata": {},
     "output_type": "display_data"
    }
   ],
   "source": [
    "[i for i in [1,2]]"
   ]
  },
  {
   "cell_type": "code",
   "execution_count": 2,
   "metadata": {},
   "outputs": [
    {
     "data": {
      "text/plain": [
       "2-element Vector{Int64}:\n",
       " 0\n",
       " 0"
      ]
     },
     "metadata": {},
     "output_type": "display_data"
    }
   ],
   "source": [
    "mutable struct Trajectory\n",
    "    memory_size ::Int64\n",
    "    num_states  ::Int64\n",
    "    num_actions ::Int64\n",
    "    state       ::Matrix{Float64}\n",
    "    action      ::Vector{Int64}\n",
    "    prob        ::Matrix{Float64}\n",
    "    reward      ::Vector{Float64}\n",
    "    value       ::Vector{Float64}\n",
    "    done        ::Vector{Bool}\n",
    "    advantage   ::Vector{Float64}\n",
    "    \n",
    "    function Trajectory(memory_size::Int64, num_states::Int64, num_actions::Int64)\n",
    "        state     = zeros(Float64, memory_size, num_states)\n",
    "        action    = zeros(Int64, memory_size)\n",
    "        prob      = zeros(Float64, memory_size, num_actions)\n",
    "        reward    = zeros(Float64, memory_size)\n",
    "        value     = zeros(Float64, memory_size)\n",
    "        done      = falses(memory_size)\n",
    "        advantage = zeros(Float64, memory_size)\n",
    "        new(memory_size, num_states, num_actions, state, action, prob, reward, value, done, advantage)\n",
    "    end\n",
    "end\n",
    "\n",
    "traj = Trajectory(2, 3, 2)\n",
    "traj.action\n"
   ]
  },
  {
   "cell_type": "code",
   "execution_count": 6,
   "metadata": {},
   "outputs": [
    {
     "data": {
      "text/plain": [
       "1×2 Matrix{Bool}:\n",
       " 0  0"
      ]
     },
     "metadata": {},
     "output_type": "display_data"
    }
   ],
   "source": [
    "Matrix(transpose(zeros(Bool,2)))"
   ]
  },
  {
   "cell_type": "code",
   "execution_count": 13,
   "metadata": {},
   "outputs": [
    {
     "data": {
      "text/plain": [
       "4×2 Matrix{Int64}:\n",
       " 1  1\n",
       " 2  2\n",
       " 3  3\n",
       " 4  4"
      ]
     },
     "metadata": {},
     "output_type": "display_data"
    }
   ],
   "source": [
    "a = [1 1; 2 2]\n",
    "b = [3 3; 4 4]\n",
    "cat(a,b;dims=1)"
   ]
  },
  {
   "cell_type": "code",
   "execution_count": 16,
   "metadata": {},
   "outputs": [
    {
     "data": {
      "text/plain": [
       "2"
      ]
     },
     "metadata": {},
     "output_type": "display_data"
    }
   ],
   "source": [
    "mutable struct tmp_struct\n",
    "    i::Int64\n",
    "end\n",
    "function change(tmp::tmp_struct)\n",
    "    tmp.i += 1\n",
    "end\n",
    "\n",
    "test = tmp_struct(1)\n",
    "change(test)\n",
    "\n",
    "test.i\n"
   ]
  },
  {
   "cell_type": "code",
   "execution_count": 17,
   "metadata": {},
   "outputs": [
    {
     "ename": "MethodError",
     "evalue": "MethodError: no method matching zeros(::Type{Float64}, ::typeof(size))\n\nClosest candidates are:\n  zeros(::Type{T}, !Matched::Union{Integer, AbstractUnitRange}...) where T\n   @ Base array.jl:580\n  zeros(::Type{T}, !Matched::Tuple{}) where T\n   @ Base array.jl:588\n  zeros(::Type{T}, !Matched::Tuple{Vararg{Integer, N}}) where {T, N}\n   @ Base array.jl:583\n  ...\n",
     "output_type": "error",
     "traceback": [
      "MethodError: no method matching zeros(::Type{Float64}, ::typeof(size))\n",
      "\n",
      "Closest candidates are:\n",
      "  zeros(::Type{T}, !Matched::Union{Integer, AbstractUnitRange}...) where T\n",
      "   @ Base array.jl:580\n",
      "  zeros(::Type{T}, !Matched::Tuple{}) where T\n",
      "   @ Base array.jl:588\n",
      "  zeros(::Type{T}, !Matched::Tuple{Vararg{Integer, N}}) where {T, N}\n",
      "   @ Base array.jl:583\n",
      "  ...\n",
      "\n",
      "\n",
      "Stacktrace:\n",
      " [1] Logger(Size::Int64)\n",
      "   @ Main c:\\AllmänProgrammering\\julia\\RL\\PPO_Ant\\PPO\\jl_notebook_cell_df34fa98e69747e1a8f8a730347b8e2f_X25sZmlsZQ==.jl:14\n",
      " [2] top-level scope\n",
      "   @ c:\\AllmänProgrammering\\julia\\RL\\PPO_Ant\\PPO\\jl_notebook_cell_df34fa98e69747e1a8f8a730347b8e2f_X25sZmlsZQ==.jl:21"
     ]
    }
   ],
   "source": [
    "mutable struct Logger    \n",
    "    Size          ::Int64\n",
    "    index         ::Int64\n",
    "    L_entropy     ::Vector{Float64}\n",
    "    L_value       ::Vector{Float64}\n",
    "    L_clip        ::Vector{Float64}\n",
    "    L_total       ::Vector{Float64}     \n",
    "    kl_divergence ::Vector{Float64}\n",
    "\n",
    "    function Logger(Size::Int64)\n",
    "        index         = 1\n",
    "        L_entropy     = zeros(Float64,Size)\n",
    "        L_value       = zeros(Float64,Size)\n",
    "        L_clip        = zeros(Float64,Size)\n",
    "        L_total       = zeros(Float64,Size)\n",
    "        kl_divergence = zeros(Float64,Size)  \n",
    "        new(Size,index,L_value,L_clip,L_total,kl_divergence)\n",
    "    end\n",
    "end\n",
    "\n",
    "l = Logger(3)"
   ]
  }
 ],
 "metadata": {
  "kernelspec": {
   "display_name": "Julia 1.9.3",
   "language": "julia",
   "name": "julia-1.9"
  },
  "language_info": {
   "file_extension": ".jl",
   "mimetype": "application/julia",
   "name": "julia",
   "version": "1.9.3"
  }
 },
 "nbformat": 4,
 "nbformat_minor": 2
}
