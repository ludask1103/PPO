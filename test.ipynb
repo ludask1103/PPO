{
 "cells": [
  {
   "cell_type": "code",
   "execution_count": null,
   "metadata": {},
   "outputs": [],
   "source": [
    "struct tmp\n",
    "    "
   ]
  },
  {
   "cell_type": "code",
   "execution_count": 4,
   "metadata": {},
   "outputs": [
    {
     "data": {
      "text/plain": [
       "4-element Vector{Int64}:\n",
       " 1\n",
       " 2\n",
       " 3\n",
       " 4"
      ]
     },
     "metadata": {},
     "output_type": "display_data"
    }
   ],
   "source": [
    "a = [[1,2],[3,4]]\n",
    "b = collect(Base.Flatten(a))"
   ]
  },
  {
   "cell_type": "code",
   "execution_count": 5,
   "metadata": {},
   "outputs": [
    {
     "data": {
      "text/plain": [
       "3"
      ]
     },
     "metadata": {},
     "output_type": "display_data"
    }
   ],
   "source": [
    "a = collect(range(1,10))"
   ]
  },
  {
   "cell_type": "code",
   "execution_count": 15,
   "metadata": {},
   "outputs": [
    {
     "data": {
      "text/plain": [
       "4-element Vector{Vector{Int64}}:\n",
       " [7, 6, 10]\n",
       " [1, 5, 4]\n",
       " [9, 2, 8]\n",
       " [3]"
      ]
     },
     "metadata": {},
     "output_type": "display_data"
    }
   ],
   "source": [
    "using Random\n",
    "function create_mini_batches(sample_length::Int64, batch_size::Int64)::Vector{Vector{Int64}}\n",
    "    ind = shuffle(collect(1:sample_length))\n",
    "    batch_ind = []\n",
    "    \n",
    "    while true\n",
    "        if length(ind) >= batch_size\n",
    "            push!(batch_ind, splice!(ind,1:batch_size))\n",
    "        else\n",
    "            push!(batch_ind, ind)\n",
    "            break\n",
    "        end\n",
    "    end\n",
    "\n",
    "    return batch_ind\n",
    "end\n",
    "\n",
    "create_mini_batches(10,3)"
   ]
  },
  {
   "cell_type": "code",
   "execution_count": 27,
   "metadata": {},
   "outputs": [
    {
     "data": {
      "text/plain": [
       "2-element Vector{Int64}:\n",
       " 1\n",
       " 0"
      ]
     },
     "metadata": {},
     "output_type": "display_data"
    }
   ],
   "source": [
    "a = transpose(stack([[1,0,1],[ 0,0,1]], dims=1))\n",
    "[a[:,i][1] for i in 1:size(a,2)]"
   ]
  },
  {
   "cell_type": "code",
   "execution_count": 62,
   "metadata": {},
   "outputs": [
    {
     "data": {
      "text/plain": [
       "2-element Vector{Int64}:\n",
       " 22\n",
       " 78"
      ]
     },
     "metadata": {},
     "output_type": "display_data"
    }
   ],
   "source": [
    "using StatsBase: wsample\n",
    "a = [0,0]\n",
    "for _ in 1:100\n",
    "    i = wsample([1,2],[0.2,0.8])\n",
    "    a[i] += 1\n",
    "end\n",
    "a"
   ]
  },
  {
   "cell_type": "code",
   "execution_count": 29,
   "metadata": {},
   "outputs": [],
   "source": [
    "using ReinforcementLearning"
   ]
  },
  {
   "cell_type": "code",
   "execution_count": 30,
   "metadata": {},
   "outputs": [
    {
     "data": {
      "text/markdown": [
       "# CartPoleEnv\n",
       "\n",
       "## Traits\n",
       "\n",
       "| Trait Type        |                  Value |\n",
       "|:----------------- | ----------------------:|\n",
       "| NumAgentStyle     |          SingleAgent() |\n",
       "| DynamicStyle      |           Sequential() |\n",
       "| InformationStyle  | ImperfectInformation() |\n",
       "| ChanceStyle       |           Stochastic() |\n",
       "| RewardStyle       |           StepReward() |\n",
       "| UtilityStyle      |           GeneralSum() |\n",
       "| ActionStyle       |     MinimalActionSet() |\n",
       "| StateStyle        |     Observation{Any}() |\n",
       "| DefaultStateStyle |     Observation{Any}() |\n",
       "\n",
       "## Is Environment Terminated?\n",
       "\n",
       "No\n",
       "\n",
       "## State Space\n",
       "\n",
       "`Space{Vector{IntervalSets.ClosedInterval{Float64}}}(IntervalSets.ClosedInterval{Float64}[-4.8..4.8, -Inf..Inf, -0.41887902047863906..0.41887902047863906, -Inf..Inf])`\n",
       "\n",
       "## Action Space\n",
       "\n",
       "`Base.OneTo(2)`\n",
       "\n",
       "## Current State\n",
       "\n",
       "```\n",
       "[0.0012086741629943054, 0.03794769958606867, -0.00030351204903651674, 0.01558122573730239]\n",
       "```\n"
      ],
      "text/plain": [
       "# CartPoleEnv\n",
       "\n",
       "## Traits\n",
       "\n",
       "| Trait Type        |                  Value |\n",
       "|:----------------- | ----------------------:|\n",
       "| NumAgentStyle     |          SingleAgent() |\n",
       "| DynamicStyle      |           Sequential() |\n",
       "| InformationStyle  | ImperfectInformation() |\n",
       "| ChanceStyle       |           Stochastic() |\n",
       "| RewardStyle       |           StepReward() |\n",
       "| UtilityStyle      |           GeneralSum() |\n",
       "| ActionStyle       |     MinimalActionSet() |\n",
       "| StateStyle        |     Observation{Any}() |\n",
       "| DefaultStateStyle |     Observation{Any}() |\n",
       "\n",
       "## Is Environment Terminated?\n",
       "\n",
       "No\n",
       "\n",
       "## State Space\n",
       "\n",
       "`Space{Vector{IntervalSets.ClosedInterval{Float64}}}(IntervalSets.ClosedInterval{Float64}[-4.8..4.8, -Inf..Inf, -0.41887902047863906..0.41887902047863906, -Inf..Inf])`\n",
       "\n",
       "## Action Space\n",
       "\n",
       "`Base.OneTo(2)`\n",
       "\n",
       "## Current State\n",
       "\n",
       "```\n",
       "[0.0012086741629943054, 0.03794769958606867, -0.00030351204903651674, 0.01558122573730239]\n",
       "```\n"
      ]
     },
     "metadata": {},
     "output_type": "display_data"
    }
   ],
   "source": [
    "function step(action,environment)\n",
    "    s = state(environment)\n",
    "    environment(action)\n",
    "    r = reward(environment)\n",
    "\n",
    "    return s,r\n",
    "end\n",
    "\n",
    "e = CartPoleEnv()\n"
   ]
  },
  {
   "cell_type": "code",
   "execution_count": 75,
   "metadata": {},
   "outputs": [
    {
     "data": {
      "text/plain": [
       "([-3.5262590062025985, -8.145558791508183, 4.768378491164363, 3.323126227566399], 0.0)"
      ]
     },
     "metadata": {},
     "output_type": "display_data"
    }
   ],
   "source": [
    "step(1,e)"
   ]
  },
  {
   "cell_type": "code",
   "execution_count": 23,
   "metadata": {},
   "outputs": [
    {
     "name": "stdout",
     "output_type": "stream",
     "text": [
      "[[9, 2, 7], [8, 1, 6], [10, 5, 3], [4]]\n",
      "[[3, 4, 9], [2, 10, 7], [5, 8, 6], [1]]\n"
     ]
    }
   ],
   "source": [
    " using StableRNGs, Random\n",
    "rng = StableRNG(1)  # Set RNG seed globally\n",
    "function create_mini_batches(\n",
    "    sample_length::Int64, \n",
    "    batch_size::Int64\n",
    "    )::Vector{Vector{Int64}}\n",
    "\n",
    "    ind = shuffle(rng,collect(1:sample_length))\n",
    "    batch_ind = []\n",
    "    \n",
    "    while true\n",
    "        if length(ind) >= batch_size\n",
    "            push!(batch_ind, splice!(ind,1:batch_size))\n",
    "        else\n",
    "            push!(batch_ind, ind)\n",
    "            break\n",
    "        end\n",
    "    end\n",
    "\n",
    "    return batch_ind\n",
    "end\n",
    "# Example usage of create_mini_batches\n",
    "sample_length = 10\n",
    "batch_size = 3\n",
    "batches_1 = create_mini_batches(sample_length, batch_size)  # First call\n",
    "batches_2 = create_mini_batches(sample_length, batch_size)  # Second call\n",
    "\n",
    "println(batches_1)  # Should print the same batches\n",
    "println(batches_2)  # Should also print the same batches"
   ]
  },
  {
   "cell_type": "code",
   "execution_count": 24,
   "metadata": {},
   "outputs": [
    {
     "data": {
      "text/plain": [
       "5-element Vector{t}:\n",
       " t(1)\n",
       " t(1)\n",
       " t(1)\n",
       " t(1)\n",
       " t(1)"
      ]
     },
     "metadata": {},
     "output_type": "display_data"
    }
   ],
   "source": [
    "struct t\n",
    "    s \n",
    "end\n",
    "\n",
    "test = [t(1) for _ in 1:5]"
   ]
  },
  {
   "cell_type": "code",
   "execution_count": 81,
   "metadata": {},
   "outputs": [
    {
     "data": {
      "text/plain": [
       "2×4 Matrix{Float64}:\n",
       " -0.896013  -0.538859  -0.878686  -0.896013\n",
       " -0.524576  -0.875661  -0.536705  -0.524576"
      ]
     },
     "metadata": {},
     "output_type": "display_data"
    }
   ],
   "source": [
    "log.([0.4081937451196489 0.5834133702493958 0.4153282068228023 0.4081937451196489; 0.5918062548803511 0.4165866297506043 0.5846717931771976 0.5918062548803511])"
   ]
  }
 ],
 "metadata": {
  "kernelspec": {
   "display_name": "Julia 1.9.3",
   "language": "julia",
   "name": "julia-1.9"
  },
  "language_info": {
   "file_extension": ".jl",
   "mimetype": "application/julia",
   "name": "julia",
   "version": "1.9.3"
  }
 },
 "nbformat": 4,
 "nbformat_minor": 2
}
