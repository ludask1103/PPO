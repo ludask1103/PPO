{
 "cells": [
  {
   "cell_type": "code",
   "execution_count": null,
   "metadata": {},
   "outputs": [],
   "source": [
    "struct tmp\n",
    "    "
   ]
  },
  {
   "cell_type": "code",
   "execution_count": 4,
   "metadata": {},
   "outputs": [
    {
     "data": {
      "text/plain": [
       "4-element Vector{Int64}:\n",
       " 1\n",
       " 2\n",
       " 3\n",
       " 4"
      ]
     },
     "metadata": {},
     "output_type": "display_data"
    }
   ],
   "source": [
    "a = [[1,2],[3,4]]\n",
    "b = collect(Base.Flatten(a))"
   ]
  },
  {
   "cell_type": "code",
   "execution_count": 5,
   "metadata": {},
   "outputs": [
    {
     "data": {
      "text/plain": [
       "3"
      ]
     },
     "metadata": {},
     "output_type": "display_data"
    }
   ],
   "source": [
    "a = collect(range(1,10))"
   ]
  },
  {
   "cell_type": "code",
   "execution_count": 15,
   "metadata": {},
   "outputs": [
    {
     "data": {
      "text/plain": [
       "4-element Vector{Vector{Int64}}:\n",
       " [7, 6, 10]\n",
       " [1, 5, 4]\n",
       " [9, 2, 8]\n",
       " [3]"
      ]
     },
     "metadata": {},
     "output_type": "display_data"
    }
   ],
   "source": [
    "using Random\n",
    "function create_mini_batches(sample_length::Int64, batch_size::Int64)::Vector{Vector{Int64}}\n",
    "    ind = shuffle(collect(1:sample_length))\n",
    "    batch_ind = []\n",
    "    \n",
    "    while true\n",
    "        if length(ind) >= batch_size\n",
    "            push!(batch_ind, splice!(ind,1:batch_size))\n",
    "        else\n",
    "            push!(batch_ind, ind)\n",
    "            break\n",
    "        end\n",
    "    end\n",
    "\n",
    "    return batch_ind\n",
    "end\n",
    "\n",
    "create_mini_batches(10,3)"
   ]
  },
  {
   "cell_type": "code",
   "execution_count": 27,
   "metadata": {},
   "outputs": [
    {
     "data": {
      "text/plain": [
       "2-element Vector{Int64}:\n",
       " 1\n",
       " 0"
      ]
     },
     "metadata": {},
     "output_type": "display_data"
    }
   ],
   "source": [
    "a = transpose(stack([[1,0,1],[ 0,0,1]], dims=1))\n",
    "[a[:,i][1] for i in 1:size(a,2)]"
   ]
  }
 ],
 "metadata": {
  "kernelspec": {
   "display_name": "Julia 1.9.3",
   "language": "julia",
   "name": "julia-1.9"
  },
  "language_info": {
   "file_extension": ".jl",
   "mimetype": "application/julia",
   "name": "julia",
   "version": "1.9.3"
  }
 },
 "nbformat": 4,
 "nbformat_minor": 2
}
